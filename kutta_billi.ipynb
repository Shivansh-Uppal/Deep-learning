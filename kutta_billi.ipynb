{
  "nbformat": 4,
  "nbformat_minor": 0,
  "metadata": {
    "colab": {
      "provenance": [],
      "authorship_tag": "ABX9TyPwRf5DLzJF1fkvxyrGhuD2",
      "include_colab_link": true
    },
    "kernelspec": {
      "name": "python3",
      "display_name": "Python 3"
    },
    "language_info": {
      "name": "python"
    },
    "accelerator": "GPU",
    "gpuClass": "standard"
  },
  "cells": [
    {
      "cell_type": "markdown",
      "metadata": {
        "id": "view-in-github",
        "colab_type": "text"
      },
      "source": [
        "<a href=\"https://colab.research.google.com/github/Shivansh-Uppal/Deep-learning/blob/main/kutta_billi.ipynb\" target=\"_parent\"><img src=\"https://colab.research.google.com/assets/colab-badge.svg\" alt=\"Open In Colab\"/></a>"
      ]
    },
    {
      "cell_type": "code",
      "execution_count": 38,
      "metadata": {
        "id": "dmWueVwntSKN"
      },
      "outputs": [],
      "source": [
        "import tensorflow as tf"
      ]
    },
    {
      "cell_type": "code",
      "source": [
        "from tensorflow.keras.preprocessing.image import ImageDataGenerator"
      ],
      "metadata": {
        "id": "v-23ONY0wNow"
      },
      "execution_count": 39,
      "outputs": []
    },
    {
      "cell_type": "code",
      "source": [
        "import os\n",
        "import matplotlib.pyplot as plt\n",
        "import numpy as np"
      ],
      "metadata": {
        "id": "tV-YBWKMwRVT"
      },
      "execution_count": 40,
      "outputs": []
    },
    {
      "cell_type": "code",
      "source": [
        "import logging\n",
        "logger = tf.get_logger()\n",
        "logger.setLevel(logging.ERROR)"
      ],
      "metadata": {
        "id": "xg_JVzaJwViR"
      },
      "execution_count": 41,
      "outputs": []
    },
    {
      "cell_type": "code",
      "source": [
        "_URL = 'https://storage.googleapis.com/mledu-datasets/cats_and_dogs_filtered.zip'\n",
        "zip_dir = tf.keras.utils.get_file('cats_and_dogs_filterted.zip', origin=_URL, extract=True)"
      ],
      "metadata": {
        "id": "9c7TklGAwZct"
      },
      "execution_count": 42,
      "outputs": []
    },
    {
      "cell_type": "code",
      "source": [
        "zip_dir_base = os.path.dirname(zip_dir)\n",
        "!find $zip_dir_base -type d -print"
      ],
      "metadata": {
        "colab": {
          "base_uri": "https://localhost:8080/"
        },
        "id": "FMBeJpalwegH",
        "outputId": "cbd11f82-b95b-4125-dcc6-603f3e191729"
      },
      "execution_count": 43,
      "outputs": [
        {
          "output_type": "stream",
          "name": "stdout",
          "text": [
            "/root/.keras/datasets\n",
            "/root/.keras/datasets/cats_and_dogs_filtered\n",
            "/root/.keras/datasets/cats_and_dogs_filtered/train\n",
            "/root/.keras/datasets/cats_and_dogs_filtered/train/cats\n",
            "/root/.keras/datasets/cats_and_dogs_filtered/train/dogs\n",
            "/root/.keras/datasets/cats_and_dogs_filtered/validation\n",
            "/root/.keras/datasets/cats_and_dogs_filtered/validation/cats\n",
            "/root/.keras/datasets/cats_and_dogs_filtered/validation/dogs\n"
          ]
        }
      ]
    },
    {
      "cell_type": "code",
      "source": [
        "base_dir = os.path.join(os.path.dirname(zip_dir), 'cats_and_dogs_filtered')\n",
        "train_dir = os.path.join(base_dir, 'train')\n",
        "validation_dir = os.path.join(base_dir, 'validation')\n",
        "\n",
        "train_cats_dir = os.path.join(train_dir, 'cats')  # directory with our training cat pictures\n",
        "train_dogs_dir = os.path.join(train_dir, 'dogs')  # directory with our training dog pictures\n",
        "validation_cats_dir = os.path.join(validation_dir, 'cats')  # directory with our validation cat pictures\n",
        "validation_dogs_dir = os.path.join(validation_dir, 'dogs')  # directory with our validation dog pictures"
      ],
      "metadata": {
        "id": "vPbbYp7oxTLd"
      },
      "execution_count": 44,
      "outputs": []
    },
    {
      "cell_type": "code",
      "source": [
        "num_cats_tr = len(os.listdir(train_cats_dir))\n",
        "num_dogs_tr = len(os.listdir(train_dogs_dir))\n",
        "\n",
        "num_cats_val = len(os.listdir(validation_cats_dir))\n",
        "num_dogs_val = len(os.listdir(validation_dogs_dir))\n",
        "\n",
        "total_train = num_cats_tr + num_dogs_tr\n",
        "total_val = num_cats_val + num_dogs_val"
      ],
      "metadata": {
        "id": "KZXUfUUNxYa-"
      },
      "execution_count": 45,
      "outputs": []
    },
    {
      "cell_type": "code",
      "source": [
        "print('total training cat images:', num_cats_tr)\n",
        "print('total training dog images:', num_dogs_tr)\n",
        "\n",
        "print('total validation cat images:', num_cats_val)\n",
        "print('total validation dog images:', num_dogs_val)\n",
        "print(\"--\")\n",
        "print(\"Total training images:\", total_train)\n",
        "print(\"Total validation images:\", total_val)"
      ],
      "metadata": {
        "colab": {
          "base_uri": "https://localhost:8080/"
        },
        "id": "nVFI1OfqxcBE",
        "outputId": "de1cb603-7d87-43e8-ed4e-e3258a835bc0"
      },
      "execution_count": 46,
      "outputs": [
        {
          "output_type": "stream",
          "name": "stdout",
          "text": [
            "total training cat images: 1000\n",
            "total training dog images: 1000\n",
            "total validation cat images: 500\n",
            "total validation dog images: 500\n",
            "--\n",
            "Total training images: 2000\n",
            "Total validation images: 1000\n"
          ]
        }
      ]
    },
    {
      "cell_type": "code",
      "source": [
        "BATCH_SIZE = 100  # Number of training examples to process before updating our models variables\n",
        "IMG_SHAPE  = 150  # Our training data consists of images with width of 150 pixels and height of 150 pixels"
      ],
      "metadata": {
        "id": "UFanQi9nx-Ks"
      },
      "execution_count": 47,
      "outputs": []
    },
    {
      "cell_type": "code",
      "source": [
        "train_image_generator      = ImageDataGenerator(rescale=1./255)  # Generator for our training data\n",
        "validation_image_generator = ImageDataGenerator(rescale=1./255)  # Generator for our validation data"
      ],
      "metadata": {
        "id": "_il31PESx_Mo"
      },
      "execution_count": 48,
      "outputs": []
    },
    {
      "cell_type": "code",
      "source": [
        "train_data_gen = train_image_generator.flow_from_directory(batch_size=BATCH_SIZE,\n",
        "                                                           directory=train_dir,\n",
        "                                                           shuffle=True,\n",
        "                                                           target_size=(IMG_SHAPE,IMG_SHAPE), #(150,150)\n",
        "                                                           class_mode='binary')"
      ],
      "metadata": {
        "colab": {
          "base_uri": "https://localhost:8080/"
        },
        "id": "dwpRC1ktyDg_",
        "outputId": "2bbb79ad-8b44-41df-ebee-4349da57cf49"
      },
      "execution_count": 49,
      "outputs": [
        {
          "output_type": "stream",
          "name": "stdout",
          "text": [
            "Found 2000 images belonging to 2 classes.\n"
          ]
        }
      ]
    },
    {
      "cell_type": "code",
      "source": [
        "val_data_gen = validation_image_generator.flow_from_directory(batch_size=BATCH_SIZE,\n",
        "                                                              directory=validation_dir,\n",
        "                                                              shuffle=False,\n",
        "                                                              target_size=(IMG_SHAPE,IMG_SHAPE), #(150,150)\n",
        "                                                              class_mode='binary')"
      ],
      "metadata": {
        "colab": {
          "base_uri": "https://localhost:8080/"
        },
        "id": "F64Ou_T6yMI-",
        "outputId": "6bc68128-9dde-40f9-8ace-d16e6331804e"
      },
      "execution_count": 50,
      "outputs": [
        {
          "output_type": "stream",
          "name": "stdout",
          "text": [
            "Found 1000 images belonging to 2 classes.\n"
          ]
        }
      ]
    },
    {
      "cell_type": "code",
      "source": [
        "class_indices={}\n",
        "\n",
        "for key in train_data_gen.class_indices.keys():\n",
        "    class_indices[train_data_gen.class_indices[key]]=key #reversing the keys and values\n",
        "\n",
        "print(class_indices) #printing the class indices"
      ],
      "metadata": {
        "colab": {
          "base_uri": "https://localhost:8080/"
        },
        "id": "hIp7DIPKzVJg",
        "outputId": "543ef2c2-10db-444b-ec0e-48e245cc3aa4"
      },
      "execution_count": 51,
      "outputs": [
        {
          "output_type": "stream",
          "name": "stdout",
          "text": [
            "{0: 'cats', 1: 'dogs'}\n"
          ]
        }
      ]
    },
    {
      "cell_type": "code",
      "source": [
        "model = tf.keras.models.Sequential([\n",
        "    tf.keras.layers.Conv2D(32, (3,3), activation='relu', input_shape=(150, 150, 3)),\n",
        "    tf.keras.layers.MaxPooling2D(2, 2),\n",
        "\n",
        "    tf.keras.layers.Conv2D(64, (3,3), activation='relu'),\n",
        "    tf.keras.layers.MaxPooling2D(2,2),\n",
        "    \n",
        "    tf.keras.layers.Conv2D(128, (3,3), activation='relu'),\n",
        "    tf.keras.layers.MaxPooling2D(2,2),\n",
        "    \n",
        "    tf.keras.layers.Conv2D(128, (3,3), activation='relu'),\n",
        "    tf.keras.layers.MaxPooling2D(2,2),\n",
        "    \n",
        "    tf.keras.layers.Flatten(),\n",
        "    tf.keras.layers.Dense(512, activation='relu'),\n",
        "    tf.keras.layers.Dense(2)\n",
        "])"
      ],
      "metadata": {
        "id": "uz6ufwh5zdiE"
      },
      "execution_count": 56,
      "outputs": []
    },
    {
      "cell_type": "code",
      "source": [
        "model.summary()"
      ],
      "metadata": {
        "colab": {
          "base_uri": "https://localhost:8080/"
        },
        "id": "f3anjhUl2NlL",
        "outputId": "248b744f-ca93-4ce3-c660-2c5deaad6e20"
      },
      "execution_count": 57,
      "outputs": [
        {
          "output_type": "stream",
          "name": "stdout",
          "text": [
            "Model: \"sequential_6\"\n",
            "_________________________________________________________________\n",
            " Layer (type)                Output Shape              Param #   \n",
            "=================================================================\n",
            " conv2d_12 (Conv2D)          (None, 148, 148, 32)      896       \n",
            "                                                                 \n",
            " max_pooling2d_12 (MaxPoolin  (None, 74, 74, 32)       0         \n",
            " g2D)                                                            \n",
            "                                                                 \n",
            " conv2d_13 (Conv2D)          (None, 72, 72, 64)        18496     \n",
            "                                                                 \n",
            " max_pooling2d_13 (MaxPoolin  (None, 36, 36, 64)       0         \n",
            " g2D)                                                            \n",
            "                                                                 \n",
            " conv2d_14 (Conv2D)          (None, 34, 34, 128)       73856     \n",
            "                                                                 \n",
            " max_pooling2d_14 (MaxPoolin  (None, 17, 17, 128)      0         \n",
            " g2D)                                                            \n",
            "                                                                 \n",
            " conv2d_15 (Conv2D)          (None, 15, 15, 128)       147584    \n",
            "                                                                 \n",
            " max_pooling2d_15 (MaxPoolin  (None, 7, 7, 128)        0         \n",
            " g2D)                                                            \n",
            "                                                                 \n",
            " flatten_6 (Flatten)         (None, 6272)              0         \n",
            "                                                                 \n",
            " dense_12 (Dense)            (None, 512)               3211776   \n",
            "                                                                 \n",
            " dense_13 (Dense)            (None, 2)                 1026      \n",
            "                                                                 \n",
            "=================================================================\n",
            "Total params: 3,453,634\n",
            "Trainable params: 3,453,634\n",
            "Non-trainable params: 0\n",
            "_________________________________________________________________\n"
          ]
        }
      ]
    },
    {
      "cell_type": "code",
      "source": [
        "model.compile(optimizer='adam',\n",
        "              loss=tf.keras.losses.SparseCategoricalCrossentropy(from_logits=True),\n",
        "              metrics=['accuracy'])"
      ],
      "metadata": {
        "id": "NmRvfkUMyPbt"
      },
      "execution_count": 58,
      "outputs": []
    },
    {
      "cell_type": "code",
      "source": [
        "EPOCHS = 100\n",
        "history = model.fit_generator(\n",
        "    train_data_gen,\n",
        "    steps_per_epoch=int(np.ceil(total_train / float(BATCH_SIZE))),\n",
        "    epochs=EPOCHS,\n",
        "    validation_data=val_data_gen,\n",
        "    validation_steps=int(np.ceil(total_val / float(BATCH_SIZE)))\n",
        ")"
      ],
      "metadata": {
        "colab": {
          "base_uri": "https://localhost:8080/"
        },
        "id": "coHYNgeO1eSK",
        "outputId": "8d7cd10c-dcce-4d96-da98-1fc40a57b406"
      },
      "execution_count": 59,
      "outputs": [
        {
          "output_type": "stream",
          "name": "stderr",
          "text": [
            "<ipython-input-59-d70e0a339f06>:2: UserWarning: `Model.fit_generator` is deprecated and will be removed in a future version. Please use `Model.fit`, which supports generators.\n",
            "  history = model.fit_generator(\n"
          ]
        },
        {
          "output_type": "stream",
          "name": "stdout",
          "text": [
            "Epoch 1/100\n",
            "20/20 [==============================] - 14s 531ms/step - loss: 0.7437 - accuracy: 0.5040 - val_loss: 0.6947 - val_accuracy: 0.5000\n",
            "Epoch 2/100\n",
            "20/20 [==============================] - 11s 578ms/step - loss: 0.6862 - accuracy: 0.5405 - val_loss: 0.6824 - val_accuracy: 0.5090\n",
            "Epoch 3/100\n",
            "20/20 [==============================] - 11s 581ms/step - loss: 0.6732 - accuracy: 0.5675 - val_loss: 0.6413 - val_accuracy: 0.6580\n",
            "Epoch 4/100\n",
            "20/20 [==============================] - 9s 468ms/step - loss: 0.6674 - accuracy: 0.5845 - val_loss: 0.6558 - val_accuracy: 0.6440\n",
            "Epoch 5/100\n",
            "20/20 [==============================] - 11s 546ms/step - loss: 0.6063 - accuracy: 0.6750 - val_loss: 0.6270 - val_accuracy: 0.6810\n",
            "Epoch 6/100\n",
            "20/20 [==============================] - 10s 511ms/step - loss: 0.5697 - accuracy: 0.7140 - val_loss: 0.6134 - val_accuracy: 0.6610\n",
            "Epoch 7/100\n",
            "20/20 [==============================] - 10s 518ms/step - loss: 0.5517 - accuracy: 0.7155 - val_loss: 0.5986 - val_accuracy: 0.6900\n",
            "Epoch 8/100\n",
            "20/20 [==============================] - 10s 524ms/step - loss: 0.5038 - accuracy: 0.7540 - val_loss: 0.5962 - val_accuracy: 0.7020\n",
            "Epoch 9/100\n",
            "20/20 [==============================] - 9s 478ms/step - loss: 0.4650 - accuracy: 0.7780 - val_loss: 0.5874 - val_accuracy: 0.7070\n",
            "Epoch 10/100\n",
            "20/20 [==============================] - 9s 466ms/step - loss: 0.4397 - accuracy: 0.7920 - val_loss: 0.6302 - val_accuracy: 0.7020\n",
            "Epoch 11/100\n",
            "20/20 [==============================] - 10s 517ms/step - loss: 0.4073 - accuracy: 0.8125 - val_loss: 0.6128 - val_accuracy: 0.7220\n",
            "Epoch 12/100\n",
            "20/20 [==============================] - 10s 516ms/step - loss: 0.3552 - accuracy: 0.8395 - val_loss: 0.6429 - val_accuracy: 0.7220\n",
            "Epoch 13/100\n",
            "20/20 [==============================] - 10s 512ms/step - loss: 0.3347 - accuracy: 0.8575 - val_loss: 0.7133 - val_accuracy: 0.6970\n",
            "Epoch 14/100\n",
            "20/20 [==============================] - 9s 475ms/step - loss: 0.2862 - accuracy: 0.8785 - val_loss: 0.6900 - val_accuracy: 0.7150\n",
            "Epoch 15/100\n",
            "20/20 [==============================] - 9s 464ms/step - loss: 0.2146 - accuracy: 0.9190 - val_loss: 0.7222 - val_accuracy: 0.7380\n",
            "Epoch 16/100\n",
            "20/20 [==============================] - 10s 517ms/step - loss: 0.1713 - accuracy: 0.9305 - val_loss: 0.8017 - val_accuracy: 0.7240\n",
            "Epoch 17/100\n",
            "20/20 [==============================] - 10s 522ms/step - loss: 0.1275 - accuracy: 0.9525 - val_loss: 0.8293 - val_accuracy: 0.7370\n",
            "Epoch 18/100\n",
            "20/20 [==============================] - 10s 520ms/step - loss: 0.1132 - accuracy: 0.9560 - val_loss: 1.0113 - val_accuracy: 0.7340\n",
            "Epoch 19/100\n",
            "20/20 [==============================] - 12s 590ms/step - loss: 0.1016 - accuracy: 0.9650 - val_loss: 0.9801 - val_accuracy: 0.7220\n",
            "Epoch 20/100\n",
            "20/20 [==============================] - 9s 472ms/step - loss: 0.0656 - accuracy: 0.9810 - val_loss: 1.1956 - val_accuracy: 0.7170\n",
            "Epoch 21/100\n",
            "20/20 [==============================] - 10s 523ms/step - loss: 0.0632 - accuracy: 0.9790 - val_loss: 1.2238 - val_accuracy: 0.7220\n",
            "Epoch 22/100\n",
            "20/20 [==============================] - 10s 520ms/step - loss: 0.0390 - accuracy: 0.9870 - val_loss: 1.3571 - val_accuracy: 0.7380\n",
            "Epoch 23/100\n",
            "20/20 [==============================] - 10s 522ms/step - loss: 0.0408 - accuracy: 0.9865 - val_loss: 1.3269 - val_accuracy: 0.7130\n",
            "Epoch 24/100\n",
            "20/20 [==============================] - 10s 527ms/step - loss: 0.0442 - accuracy: 0.9865 - val_loss: 1.4663 - val_accuracy: 0.7180\n",
            "Epoch 25/100\n",
            "20/20 [==============================] - 9s 468ms/step - loss: 0.0812 - accuracy: 0.9720 - val_loss: 1.2816 - val_accuracy: 0.7070\n",
            "Epoch 26/100\n",
            "20/20 [==============================] - 10s 509ms/step - loss: 0.0575 - accuracy: 0.9830 - val_loss: 1.4182 - val_accuracy: 0.7180\n",
            "Epoch 27/100\n",
            "20/20 [==============================] - 10s 527ms/step - loss: 0.0338 - accuracy: 0.9900 - val_loss: 1.4955 - val_accuracy: 0.7360\n",
            "Epoch 28/100\n",
            "20/20 [==============================] - 10s 518ms/step - loss: 0.0279 - accuracy: 0.9920 - val_loss: 1.5358 - val_accuracy: 0.7280\n",
            "Epoch 29/100\n",
            "20/20 [==============================] - 10s 513ms/step - loss: 0.0164 - accuracy: 0.9965 - val_loss: 1.7144 - val_accuracy: 0.7090\n",
            "Epoch 30/100\n",
            "20/20 [==============================] - 9s 466ms/step - loss: 0.0076 - accuracy: 0.9985 - val_loss: 1.7555 - val_accuracy: 0.7410\n",
            "Epoch 31/100\n",
            "20/20 [==============================] - 10s 524ms/step - loss: 0.0076 - accuracy: 0.9980 - val_loss: 1.8043 - val_accuracy: 0.7340\n",
            "Epoch 32/100\n",
            "20/20 [==============================] - 10s 515ms/step - loss: 0.0245 - accuracy: 0.9930 - val_loss: 1.7235 - val_accuracy: 0.7110\n",
            "Epoch 33/100\n",
            "20/20 [==============================] - 10s 514ms/step - loss: 0.0248 - accuracy: 0.9915 - val_loss: 1.7886 - val_accuracy: 0.7230\n",
            "Epoch 34/100\n",
            "20/20 [==============================] - 11s 575ms/step - loss: 0.0365 - accuracy: 0.9890 - val_loss: 1.8520 - val_accuracy: 0.7230\n",
            "Epoch 35/100\n",
            "20/20 [==============================] - 10s 481ms/step - loss: 0.0434 - accuracy: 0.9865 - val_loss: 1.6153 - val_accuracy: 0.7130\n",
            "Epoch 36/100\n",
            "20/20 [==============================] - 10s 475ms/step - loss: 0.0206 - accuracy: 0.9940 - val_loss: 1.8440 - val_accuracy: 0.7220\n",
            "Epoch 37/100\n",
            "20/20 [==============================] - 10s 517ms/step - loss: 0.0085 - accuracy: 0.9975 - val_loss: 1.9848 - val_accuracy: 0.7170\n",
            "Epoch 38/100\n",
            "20/20 [==============================] - 10s 509ms/step - loss: 0.0052 - accuracy: 0.9990 - val_loss: 1.9811 - val_accuracy: 0.7340\n",
            "Epoch 39/100\n",
            "20/20 [==============================] - 10s 518ms/step - loss: 0.0041 - accuracy: 0.9985 - val_loss: 1.9381 - val_accuracy: 0.7360\n",
            "Epoch 40/100\n",
            "20/20 [==============================] - 9s 473ms/step - loss: 0.0092 - accuracy: 0.9975 - val_loss: 1.9233 - val_accuracy: 0.7300\n",
            "Epoch 41/100\n",
            "20/20 [==============================] - 10s 515ms/step - loss: 0.0101 - accuracy: 0.9970 - val_loss: 2.0125 - val_accuracy: 0.7240\n",
            "Epoch 42/100\n",
            "20/20 [==============================] - 11s 553ms/step - loss: 0.0234 - accuracy: 0.9920 - val_loss: 1.9888 - val_accuracy: 0.7120\n",
            "Epoch 43/100\n",
            "20/20 [==============================] - 10s 520ms/step - loss: 0.0309 - accuracy: 0.9885 - val_loss: 1.9765 - val_accuracy: 0.7020\n",
            "Epoch 44/100\n",
            "20/20 [==============================] - 10s 515ms/step - loss: 0.0534 - accuracy: 0.9770 - val_loss: 1.7792 - val_accuracy: 0.7180\n",
            "Epoch 45/100\n",
            "20/20 [==============================] - 9s 460ms/step - loss: 0.0215 - accuracy: 0.9925 - val_loss: 1.5677 - val_accuracy: 0.7350\n",
            "Epoch 46/100\n",
            "20/20 [==============================] - 10s 513ms/step - loss: 0.0145 - accuracy: 0.9960 - val_loss: 1.8061 - val_accuracy: 0.7280\n",
            "Epoch 47/100\n",
            "20/20 [==============================] - 10s 521ms/step - loss: 0.0068 - accuracy: 0.9975 - val_loss: 1.8870 - val_accuracy: 0.7290\n",
            "Epoch 48/100\n",
            "20/20 [==============================] - 10s 510ms/step - loss: 0.0018 - accuracy: 1.0000 - val_loss: 1.9707 - val_accuracy: 0.7230\n",
            "Epoch 49/100\n",
            "20/20 [==============================] - 10s 516ms/step - loss: 7.5817e-04 - accuracy: 1.0000 - val_loss: 1.9876 - val_accuracy: 0.7260\n",
            "Epoch 50/100\n",
            "20/20 [==============================] - 9s 472ms/step - loss: 3.8244e-04 - accuracy: 1.0000 - val_loss: 2.0337 - val_accuracy: 0.7300\n",
            "Epoch 51/100\n",
            "20/20 [==============================] - 10s 528ms/step - loss: 2.9370e-04 - accuracy: 1.0000 - val_loss: 2.0657 - val_accuracy: 0.7320\n",
            "Epoch 52/100\n",
            "20/20 [==============================] - 12s 628ms/step - loss: 2.3859e-04 - accuracy: 1.0000 - val_loss: 2.0880 - val_accuracy: 0.7300\n",
            "Epoch 53/100\n",
            "20/20 [==============================] - 10s 511ms/step - loss: 2.0590e-04 - accuracy: 1.0000 - val_loss: 2.1136 - val_accuracy: 0.7290\n",
            "Epoch 54/100\n",
            "20/20 [==============================] - 10s 527ms/step - loss: 1.8210e-04 - accuracy: 1.0000 - val_loss: 2.1342 - val_accuracy: 0.7300\n",
            "Epoch 55/100\n",
            "20/20 [==============================] - 12s 584ms/step - loss: 1.6554e-04 - accuracy: 1.0000 - val_loss: 2.1524 - val_accuracy: 0.7310\n",
            "Epoch 56/100\n",
            "20/20 [==============================] - 10s 487ms/step - loss: 1.5017e-04 - accuracy: 1.0000 - val_loss: 2.1722 - val_accuracy: 0.7300\n",
            "Epoch 57/100\n",
            "20/20 [==============================] - 10s 483ms/step - loss: 1.3764e-04 - accuracy: 1.0000 - val_loss: 2.1874 - val_accuracy: 0.7310\n",
            "Epoch 58/100\n",
            "20/20 [==============================] - 10s 520ms/step - loss: 1.2673e-04 - accuracy: 1.0000 - val_loss: 2.2025 - val_accuracy: 0.7300\n",
            "Epoch 59/100\n",
            "20/20 [==============================] - 10s 527ms/step - loss: 1.1756e-04 - accuracy: 1.0000 - val_loss: 2.2164 - val_accuracy: 0.7300\n",
            "Epoch 60/100\n",
            "20/20 [==============================] - 10s 521ms/step - loss: 1.0989e-04 - accuracy: 1.0000 - val_loss: 2.2291 - val_accuracy: 0.7300\n",
            "Epoch 61/100\n",
            "20/20 [==============================] - 10s 491ms/step - loss: 1.0298e-04 - accuracy: 1.0000 - val_loss: 2.2410 - val_accuracy: 0.7300\n",
            "Epoch 62/100\n",
            "20/20 [==============================] - 10s 493ms/step - loss: 9.7018e-05 - accuracy: 1.0000 - val_loss: 2.2530 - val_accuracy: 0.7290\n",
            "Epoch 63/100\n",
            "20/20 [==============================] - 11s 576ms/step - loss: 9.1201e-05 - accuracy: 1.0000 - val_loss: 2.2657 - val_accuracy: 0.7300\n",
            "Epoch 64/100\n",
            "20/20 [==============================] - 10s 528ms/step - loss: 8.6310e-05 - accuracy: 1.0000 - val_loss: 2.2778 - val_accuracy: 0.7290\n",
            "Epoch 65/100\n",
            "20/20 [==============================] - 10s 518ms/step - loss: 8.1941e-05 - accuracy: 1.0000 - val_loss: 2.2881 - val_accuracy: 0.7300\n",
            "Epoch 66/100\n",
            "20/20 [==============================] - 9s 469ms/step - loss: 7.7657e-05 - accuracy: 1.0000 - val_loss: 2.2987 - val_accuracy: 0.7300\n",
            "Epoch 67/100\n",
            "20/20 [==============================] - 10s 526ms/step - loss: 7.3908e-05 - accuracy: 1.0000 - val_loss: 2.3072 - val_accuracy: 0.7320\n",
            "Epoch 68/100\n",
            "20/20 [==============================] - 12s 630ms/step - loss: 7.0398e-05 - accuracy: 1.0000 - val_loss: 2.3165 - val_accuracy: 0.7320\n",
            "Epoch 69/100\n",
            "20/20 [==============================] - 10s 515ms/step - loss: 6.7330e-05 - accuracy: 1.0000 - val_loss: 2.3268 - val_accuracy: 0.7350\n",
            "Epoch 70/100\n",
            "20/20 [==============================] - 10s 513ms/step - loss: 6.4385e-05 - accuracy: 1.0000 - val_loss: 2.3359 - val_accuracy: 0.7340\n",
            "Epoch 71/100\n",
            "20/20 [==============================] - 12s 591ms/step - loss: 6.1525e-05 - accuracy: 1.0000 - val_loss: 2.3451 - val_accuracy: 0.7330\n",
            "Epoch 72/100\n",
            "20/20 [==============================] - 10s 500ms/step - loss: 5.9093e-05 - accuracy: 1.0000 - val_loss: 2.3537 - val_accuracy: 0.7330\n",
            "Epoch 73/100\n",
            "20/20 [==============================] - 10s 474ms/step - loss: 5.6506e-05 - accuracy: 1.0000 - val_loss: 2.3624 - val_accuracy: 0.7350\n",
            "Epoch 74/100\n",
            "20/20 [==============================] - 11s 583ms/step - loss: 5.4356e-05 - accuracy: 1.0000 - val_loss: 2.3713 - val_accuracy: 0.7350\n",
            "Epoch 75/100\n",
            "20/20 [==============================] - 10s 524ms/step - loss: 5.2398e-05 - accuracy: 1.0000 - val_loss: 2.3800 - val_accuracy: 0.7350\n",
            "Epoch 76/100\n",
            "20/20 [==============================] - 10s 513ms/step - loss: 5.0338e-05 - accuracy: 1.0000 - val_loss: 2.3868 - val_accuracy: 0.7340\n",
            "Epoch 77/100\n",
            "20/20 [==============================] - 9s 471ms/step - loss: 4.8379e-05 - accuracy: 1.0000 - val_loss: 2.3946 - val_accuracy: 0.7310\n",
            "Epoch 78/100\n",
            "20/20 [==============================] - 10s 477ms/step - loss: 4.6720e-05 - accuracy: 1.0000 - val_loss: 2.4022 - val_accuracy: 0.7340\n",
            "Epoch 79/100\n",
            "20/20 [==============================] - 10s 520ms/step - loss: 4.5087e-05 - accuracy: 1.0000 - val_loss: 2.4090 - val_accuracy: 0.7340\n",
            "Epoch 80/100\n",
            "20/20 [==============================] - 10s 518ms/step - loss: 4.3457e-05 - accuracy: 1.0000 - val_loss: 2.4167 - val_accuracy: 0.7340\n",
            "Epoch 81/100\n",
            "20/20 [==============================] - 10s 517ms/step - loss: 4.2025e-05 - accuracy: 1.0000 - val_loss: 2.4239 - val_accuracy: 0.7330\n",
            "Epoch 82/100\n",
            "20/20 [==============================] - 11s 582ms/step - loss: 4.0705e-05 - accuracy: 1.0000 - val_loss: 2.4308 - val_accuracy: 0.7340\n",
            "Epoch 83/100\n",
            "20/20 [==============================] - 12s 605ms/step - loss: 3.9261e-05 - accuracy: 1.0000 - val_loss: 2.4370 - val_accuracy: 0.7320\n",
            "Epoch 84/100\n",
            "20/20 [==============================] - 12s 586ms/step - loss: 3.8298e-05 - accuracy: 1.0000 - val_loss: 2.4432 - val_accuracy: 0.7320\n",
            "Epoch 85/100\n",
            "20/20 [==============================] - 10s 517ms/step - loss: 3.6809e-05 - accuracy: 1.0000 - val_loss: 2.4500 - val_accuracy: 0.7330\n",
            "Epoch 86/100\n",
            "20/20 [==============================] - 10s 520ms/step - loss: 3.5778e-05 - accuracy: 1.0000 - val_loss: 2.4564 - val_accuracy: 0.7350\n",
            "Epoch 87/100\n",
            "20/20 [==============================] - 10s 512ms/step - loss: 3.4626e-05 - accuracy: 1.0000 - val_loss: 2.4626 - val_accuracy: 0.7340\n",
            "Epoch 88/100\n",
            "20/20 [==============================] - 11s 577ms/step - loss: 3.3632e-05 - accuracy: 1.0000 - val_loss: 2.4679 - val_accuracy: 0.7330\n",
            "Epoch 89/100\n",
            "20/20 [==============================] - 12s 587ms/step - loss: 3.2636e-05 - accuracy: 1.0000 - val_loss: 2.4747 - val_accuracy: 0.7340\n",
            "Epoch 90/100\n",
            "20/20 [==============================] - 11s 580ms/step - loss: 3.1718e-05 - accuracy: 1.0000 - val_loss: 2.4810 - val_accuracy: 0.7350\n",
            "Epoch 91/100\n",
            "20/20 [==============================] - 12s 585ms/step - loss: 3.0810e-05 - accuracy: 1.0000 - val_loss: 2.4872 - val_accuracy: 0.7350\n",
            "Epoch 92/100\n",
            "20/20 [==============================] - 9s 466ms/step - loss: 2.9968e-05 - accuracy: 1.0000 - val_loss: 2.4927 - val_accuracy: 0.7340\n",
            "Epoch 93/100\n",
            "20/20 [==============================] - 10s 513ms/step - loss: 2.9160e-05 - accuracy: 1.0000 - val_loss: 2.4970 - val_accuracy: 0.7330\n",
            "Epoch 94/100\n",
            "20/20 [==============================] - 10s 525ms/step - loss: 2.8356e-05 - accuracy: 1.0000 - val_loss: 2.5036 - val_accuracy: 0.7340\n",
            "Epoch 95/100\n",
            "20/20 [==============================] - 10s 514ms/step - loss: 2.7544e-05 - accuracy: 1.0000 - val_loss: 2.5083 - val_accuracy: 0.7330\n",
            "Epoch 96/100\n",
            "20/20 [==============================] - 10s 515ms/step - loss: 2.6858e-05 - accuracy: 1.0000 - val_loss: 2.5135 - val_accuracy: 0.7330\n",
            "Epoch 97/100\n",
            "20/20 [==============================] - 9s 476ms/step - loss: 2.6160e-05 - accuracy: 1.0000 - val_loss: 2.5196 - val_accuracy: 0.7320\n",
            "Epoch 98/100\n",
            "20/20 [==============================] - 10s 513ms/step - loss: 2.5497e-05 - accuracy: 1.0000 - val_loss: 2.5247 - val_accuracy: 0.7330\n",
            "Epoch 99/100\n",
            "20/20 [==============================] - 10s 509ms/step - loss: 2.4830e-05 - accuracy: 1.0000 - val_loss: 2.5299 - val_accuracy: 0.7330\n",
            "Epoch 100/100\n",
            "20/20 [==============================] - 10s 523ms/step - loss: 2.4190e-05 - accuracy: 1.0000 - val_loss: 2.5352 - val_accuracy: 0.7330\n"
          ]
        }
      ]
    },
    {
      "cell_type": "code",
      "source": [
        "model.evaluate(val_data_gen)"
      ],
      "metadata": {
        "colab": {
          "base_uri": "https://localhost:8080/"
        },
        "id": "SxGuI1Ds_xEc",
        "outputId": "f47d77ee-a49c-4d16-b0ab-e77fc0a86326"
      },
      "execution_count": 60,
      "outputs": [
        {
          "output_type": "stream",
          "name": "stdout",
          "text": [
            "10/10 [==============================] - 4s 364ms/step - loss: 2.5352 - accuracy: 0.7330\n"
          ]
        },
        {
          "output_type": "execute_result",
          "data": {
            "text/plain": [
              "[2.535231351852417, 0.7329999804496765]"
            ]
          },
          "metadata": {},
          "execution_count": 60
        }
      ]
    }
  ]
}